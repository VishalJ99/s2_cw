{
 "cells": [
  {
   "cell_type": "code",
   "execution_count": 1,
   "id": "c55bd749-c5d4-44b6-be7b-79b27f434731",
   "metadata": {},
   "outputs": [],
   "source": [
    "import numpy as np\n",
    "import matplotlib.pyplot as plt\n",
    "from corner import corner\n",
    "import time"
   ]
  },
  {
   "cell_type": "markdown",
   "id": "be39257c-0fb1-4899-88b0-e5e8419b5a9a",
   "metadata": {},
   "source": [
    "# Rosenbrock banana \n",
    "\n",
    "Rosenbrock's \"banana\" function in $n$ dimensions is defined as\n",
    "\n",
    "$$\n",
    "\tf_n(\\mathbf{x}) = \\sum_{i=1}^{n-1}\\left[100(x_{i+1}-x_i^2)^2+(1-x_i)^2\\right] ,\n",
    "$$\n",
    "\n",
    "where $\\mathbf{x}\\in\\mathbb{R}^n$. \n",
    "\n",
    "This can be used to define a probability distribution over $\\mathbb{R}^n$ with PDF $P_n(\\mathbf{x})$ that is a good test case for sampling algorithms;\n",
    "\n",
    "$$\n",
    "    \\log P_n(\\mathbf{x}) = -f_n(\\mathbf{x}) .\n",
    "$$\n"
   ]
  },
  {
   "cell_type": "code",
   "execution_count": 2,
   "id": "3f125372-1828-47e2-9edd-2c7d7b1c8401",
   "metadata": {},
   "outputs": [],
   "source": [
    "def rosenbrock(x):\n",
    "    \"\"\" \n",
    "    Rosenbrock's banana function\n",
    "    \n",
    "    Parameters\n",
    "    ----------\n",
    "    x: np.array\n",
    "        input parameter vector\n",
    "        shape=(num_dim,) \n",
    "\n",
    "    Returns\n",
    "    ------- \n",
    "    ans: float\n",
    "        banana function value\n",
    "    \"\"\"\n",
    "    num_dim = len(x)\n",
    "    mask = (np.arange(num_dim)<num_dim-1)\n",
    "    ans = np.sum(100*(np.roll(x,-1)[mask]-x[mask]**2)**2+(1-x[mask])**2)\n",
    "    return float(ans)\n",
    "\n",
    "def log_prob(x):\n",
    "    \"\"\" log PDF of target dist (up to normalisation constant) \"\"\"\n",
    "    return -rosenbrock(x)"
   ]
  },
  {
   "cell_type": "markdown",
   "id": "95a5024d-8a8f-4919-9371-20d575241d36",
   "metadata": {},
   "source": [
    "We can plot this PDF in $n=2$ dimensions. The contours in the plot below contain 50% and 90% of the probability."
   ]
  },
  {
   "cell_type": "code",
   "execution_count": 3,
   "id": "edd22c72-aadf-4a10-bd6c-c4ac93de9aa4",
   "metadata": {},
   "outputs": [
    {
     "data": {
      "image/png": "[encoded data removed]",
      "text/plain": [
       "<Figure size 640x480 with 1 Axes>"
      ]
     },
     "metadata": {},
     "output_type": "display_data"
    }
   ],
   "source": [
    "delta = 0.01\n",
    "x = np.arange(-1.0, 3.0, delta)\n",
    "y = np.arange(-1.0, 6.0, delta)\n",
    "\n",
    "X, Y = np.meshgrid(x, y)\n",
    "Z = np.zeros_like(X)\n",
    "for i in range(len(y)):\n",
    "    for j in range(len(x)):\n",
    "        Z[i,j] = np.exp(log_prob(np.array([x[j],y[i]])))\n",
    "\n",
    "Z_vals_sorted = np.sort(Z.flatten())\n",
    "pixel_prob_sorted = Z_vals_sorted * delta**2\n",
    "integral = np.cumsum(pixel_prob_sorted)\n",
    "integral /= integral[-1]\n",
    "levels = [ Z_vals_sorted[np.argmin(np.abs(Z_vals_sorted-p))] for p in [0.1, 0.5] ]\n",
    "\n",
    "fig, ax = plt.subplots()\n",
    "ax.set_aspect('equal')\n",
    "\n",
    "CS = ax.contour(X, Y, Z, levels)\n",
    "\n",
    "ax.set_xlabel(r'$x_1$')\n",
    "ax.set_ylabel(r'$x_2$')\n",
    "ax.set_title(r'$P_2(\\mathbf{x})$')\n",
    "plt.show()"
   ]
  },
  {
   "cell_type": "markdown",
   "id": "a17cbc98-a2b0-4312-89d6-4a80e4ea57b6",
   "metadata": {},
   "source": [
    "Hereafter, we will be working with the function in $n=3$ dimensions."
   ]
  },
  {
   "cell_type": "markdown",
   "id": "1418c26a-eaf7-4dfd-aa6b-4e8c87fbac9b",
   "metadata": {},
   "source": [
    "In this notebook we will attempt to calculate the expectation of $|\\mathbf{x}|$, for $\\mathbf{x}\\sim P$ with $n=3$.\n",
    "This amounts to evaluating the following integral.\n",
    "\n",
    "$$ \n",
    "    \\mathrm{E}_{\\mathbf{x}}\\left[|\\mathbf{x}|\\right] \n",
    "    = \\int\\mathrm{d}\\mathbf{x}\\;|\\mathbf{x}|P_n(\\mathbf{x}) = \\int_{-\\infty}^{\\infty}\\mathrm{d}x_1\\;\\int_{-\\infty}^{\\infty}\\mathrm{d}x_2\\;\\int_{-\\infty}^{\\infty}\\mathrm{d}x_3\\; \\sqrt{x_1^2+x_2^2+x_3^2} P_3(x_1,x_2,x_3)\n",
    "$$\n",
    "\n",
    "We will do this using quadrature methods and stochastic samples obtained with a variety of Monte-Carlo algorithms:\n",
    "\n",
    "- __Quadrature__ `scipy.integrate.tplquad`\n",
    "- __Metropolis algorihtm__ a custom implementation\n",
    "- __zeus__ (https://zeus-mcmc.readthedocs.io/en/latest/)\n",
    "  can be installed with `!pip install zeus`\n",
    "- __emcee__ (https://emcee.readthedocs.io/en/stable/)\n",
    "  can be installed with `!pip install emcee`\n",
    "- __dynesty__ (https://dynesty.readthedocs.io/en/stable/)\n",
    "  can be installed with `!pip install dynesty`\n",
    "- __nessai__ (https://nessai.readthedocs.io/en/latest/)\n",
    "  can be installed with `!pip install nessai`"
   ]
  },
  {
   "cell_type": "markdown",
   "id": "a5e4a303-f7c4-4478-af82-d31a26a64fbb",
   "metadata": {},
   "source": [
    "# (Attempting) Quadrature\n",
    "\n",
    "This _really_ doesn't work!"
   ]
  },
  {
   "cell_type": "code",
   "execution_count": 4,
   "id": "bc26c8ba-e6f2-4fa9-acaa-36ed36255cb7",
   "metadata": {},
   "outputs": [],
   "source": [
    "#from scipy.integrate import tplquad\n",
    "#\n",
    "#limits = (-10, 10, -10, 10, -10, 10)\n",
    "#\n",
    "#func = lambda x, y, z: np.sqrt(x**2+y**2+z**2)*np.exp(log_prob(np.array([x,y,z])))\n",
    "#\n",
    "#tplquad(func, *limits)"
   ]
  },
  {
   "cell_type": "markdown",
   "id": "a8f1fc6a-824c-48d6-aa17-f6a371d03939",
   "metadata": {},
   "source": [
    "# Metropolis\n",
    "\n",
    "Written from scratch. Using a Gaussian proposal distribution, $y|x\\sim\\mathcal{N}(x, \\delta I)$ where $\\delta=0.1$ and $I$ is the 3-dimensional identity matrix."
   ]
  },
  {
   "cell_type": "code",
   "execution_count": 5,
   "id": "52679a37-552e-4738-9d97-d9a2632f2abc",
   "metadata": {},
   "outputs": [
    {
     "name": "stdout",
     "output_type": "stream",
     "text": [
      "Acceptance fraction = 0.25891\n"
     ]
    }
   ],
   "source": [
    "from scipy.stats import multivariate_normal\n",
    "\n",
    "nsteps, ndim = 100000, 3\n",
    "\n",
    "delta = 0.008\n",
    "cov = delta * np.eye(3)\n",
    "\n",
    "chain = np.zeros((nsteps, 1, ndim))\n",
    "\n",
    "chain[0,0] = np.ones(ndim)\n",
    "\n",
    "num_accept = 0\n",
    "\n",
    "t_start = time.time()\n",
    "\n",
    "for i in range(nsteps-1):\n",
    "    x_current = chain[i,0]                     # current position\n",
    "    Q = multivariate_normal(x_current, cov)    # poposal distribution\n",
    "    x_proposed = Q.rvs()                       # proposed position\n",
    "    log_a = log_prob(x_proposed) - \\\n",
    "                log_prob(x_current)            # acceptance ratio\n",
    "    u = np.random.uniform()                    # uniform random variable\n",
    "    if np.log(u)<log_a:\n",
    "        x_new = x_proposed                     # ACCEPT\n",
    "        num_accept += 1                        # count how many proposals are accepted\n",
    "    else:\n",
    "        x_new = x_current                      # REJECT\n",
    "    chain[i+1,0] = x_new                       # store new position in chain\n",
    "\n",
    "print(\"Acceptance fraction = {}\".format(num_accept/nsteps))\n",
    "\n",
    "t_end = time.time()"
   ]
  },
  {
   "cell_type": "code",
   "execution_count": null,
   "id": "ae3994e7",
   "metadata": {},
   "outputs": [],
   "source": []
  },
  {
   "cell_type": "code",
   "execution_count": 6,
   "id": "a61d63b9-30bb-4df0-8cbb-781d03ccbc97",
   "metadata": {},
   "outputs": [
    {
     "ename": "ImportError",
     "evalue": "cannot import name 'Iterable' from 'collections' (/Users/vishaljain/anaconda3/envs/s2_cw/lib/python3.11/collections/__init__.py)",
     "output_type": "error",
     "traceback": [
      "\u001b[0;31m---------------------------------------------------------------------------\u001b[0m",
      "\u001b[0;31mImportError\u001b[0m                               Traceback (most recent call last)",
      "Cell \u001b[0;32mIn[6], line 1\u001b[0m\n\u001b[0;32m----> 1\u001b[0m \u001b[38;5;28;01mfrom\u001b[39;00m \u001b[38;5;21;01mzeus\u001b[39;00m \u001b[38;5;28;01mimport\u001b[39;00m AutoCorrTime\n\u001b[1;32m      3\u001b[0m taus \u001b[38;5;241m=\u001b[39m AutoCorrTime(chain)\n\u001b[1;32m      4\u001b[0m \u001b[38;5;28mprint\u001b[39m(\u001b[38;5;124m'\u001b[39m\u001b[38;5;124mAutocorrelation:\u001b[39m\u001b[38;5;124m'\u001b[39m, taus)\n",
      "File \u001b[0;32m~/anaconda3/envs/s2_cw/lib/python3.11/site-packages/zeus.py:2\u001b[0m\n\u001b[1;32m      1\u001b[0m \u001b[38;5;66;03m# coding: utf-8\u001b[39;00m\n\u001b[0;32m----> 2\u001b[0m \u001b[38;5;28;01mfrom\u001b[39;00m \u001b[38;5;21;01mcollections\u001b[39;00m \u001b[38;5;28;01mimport\u001b[39;00m Iterable \u001b[38;5;28;01mas\u001b[39;00m IterableType\n\u001b[1;32m      5\u001b[0m __author__ \u001b[38;5;241m=\u001b[39m \u001b[38;5;124m\"\u001b[39m\u001b[38;5;124mDmitry Veselov\u001b[39m\u001b[38;5;124m\"\u001b[39m\n\u001b[1;32m      6\u001b[0m __version__ \u001b[38;5;241m=\u001b[39m \u001b[38;5;124m\"\u001b[39m\u001b[38;5;124m0.1.1\u001b[39m\u001b[38;5;124m\"\u001b[39m\n",
      "\u001b[0;31mImportError\u001b[0m: cannot import name 'Iterable' from 'collections' (/Users/vishaljain/anaconda3/envs/s2_cw/lib/python3.11/collections/__init__.py)"
     ]
    }
   ],
   "source": [
    "from zeus import AutoCorrTime\n",
    "\n",
    "taus = AutoCorrTime(chain)\n",
    "print('Autocorrelation:', taus)\n",
    "\n",
    "tau = max(taus)\n",
    "print(f\"{tau = }\")"
   ]
  },
  {
   "cell_type": "code",
   "execution_count": null,
   "id": "946cdd82-7e05-4268-86b6-80e994ee9d21",
   "metadata": {},
   "outputs": [],
   "source": [
    "fig, axs = plt.subplots(nrows=ndim, figsize=(5,ndim*2))\n",
    "for i, ax in enumerate(axs):\n",
    "    ax.plot(chain[:,0,i],alpha=0.25)\n",
    "    if i==ndim-1:\n",
    "        ax.set_xlabel('Iterations')\n",
    "    else:\n",
    "        ax.set_xticks([])\n",
    "    ax.set_ylabel(r'$x_{'+str(i)+'}$')\n",
    "    ax.set_xlim(0, nsteps)\n",
    "plt.tight_layout()\n",
    "plt.show()"
   ]
  },
  {
   "cell_type": "code",
   "execution_count": null,
   "id": "97c45578-4603-483a-a898-dfdf27c0ad2e",
   "metadata": {},
   "outputs": [],
   "source": [
    "burnin = 0\n",
    "\n",
    "iid_samples = chain[burnin::2*int(tau), 0, :]\n",
    "\n",
    "num_samples = len(iid_samples)\n",
    "\n",
    "print(\"Number of i.i.d. samples produced = {}\".format(num_samples))\n",
    "print(\"Time taken per i.i.d. sample = {}s\".format((t_end-t_start)/num_samples))"
   ]
  },
  {
   "cell_type": "code",
   "execution_count": null,
   "id": "0554144a-0730-4629-9e69-9b3359a3eb02",
   "metadata": {},
   "outputs": [],
   "source": [
    "# Here I am plotting the corner plot for the entire chain: no burnin and no thinning\n",
    "corner(chain[:,0,:], labels=['x{}'.format(i) for i in range(ndim)])\n",
    "plt.show()"
   ]
  },
  {
   "cell_type": "code",
   "execution_count": null,
   "id": "7ce5dda1-553d-4c4e-9be8-7216962ce1dd",
   "metadata": {},
   "outputs": [],
   "source": [
    "I = np.mean(np.linalg.norm(iid_samples, axis=1))\n",
    "e = I*np.std(np.linalg.norm(iid_samples, axis=1))/np.sqrt(len(iid_samples))\n",
    "\n",
    "print(\"integral = {0:1.4f} +/- {1:1.4f}\".format(I, e))"
   ]
  },
  {
   "cell_type": "markdown",
   "id": "dfa955d4-9e18-4644-88b3-8309831cae75",
   "metadata": {},
   "source": [
    "# Zeus\n",
    "\n",
    "Slice ensemble MCMC sampling"
   ]
  },
  {
   "cell_type": "code",
   "execution_count": null,
   "id": "48d9ff00-4b80-4de2-988d-35834910533d",
   "metadata": {},
   "outputs": [],
   "source": [
    "import zeus\n",
    "\n",
    "nsteps, nwalkers, ndim = 10000, 100, 3\n",
    "start = np.random.randn(nwalkers, ndim)\n",
    "\n",
    "sampler = zeus.EnsembleSampler(nwalkers, ndim, log_prob)\n",
    "\n",
    "t_start = time.time()\n",
    "sampler.run_mcmc(start, nsteps)\n",
    "t_end = time.time()"
   ]
  },
  {
   "cell_type": "code",
   "execution_count": null,
   "id": "a465f371-e09e-4192-bc78-edcb027e1ee3",
   "metadata": {},
   "outputs": [],
   "source": [
    "taus = zeus.AutoCorrTime(sampler.get_chain())\n",
    "print('Autocorrelation:', taus)\n",
    "\n",
    "tau = max(taus)\n",
    "print(f\"{tau = }\")"
   ]
  },
  {
   "cell_type": "code",
   "execution_count": null,
   "id": "8e8801ab-e80b-42d6-9168-c4633298c0fa",
   "metadata": {},
   "outputs": [],
   "source": [
    "fig, axs = plt.subplots(nrows=ndim, figsize=(5,ndim*2))\n",
    "for i, ax in enumerate(axs):\n",
    "    ax.plot(sampler.get_chain()[:,:,i],alpha=0.25)\n",
    "    if i==ndim-1:\n",
    "        ax.set_xlabel('Iterations')\n",
    "    else:\n",
    "        ax.set_xticks([])\n",
    "    ax.set_ylabel(r'$x_{'+str(i)+'}$')\n",
    "    ax.set_xlim(0, nsteps)\n",
    "plt.tight_layout()\n",
    "plt.show()"
   ]
  },
  {
   "cell_type": "code",
   "execution_count": null,
   "id": "db1e5820-c15a-4d10-914e-97218b3549ad",
   "metadata": {},
   "outputs": [],
   "source": [
    "iid_samples = sampler.get_chain(flat=True, thin=2*int(tau), discard=0.05)\n",
    "\n",
    "num_samples = len(iid_samples)\n",
    "\n",
    "print(\"Number of i.i.d. samples produced = {}\".format(num_samples))\n",
    "print(\"Time taken per i.i.d. sample = {}s\".format((t_end-t_start)/num_samples))"
   ]
  },
  {
   "cell_type": "code",
   "execution_count": null,
   "id": "3ca822bd-e0e5-4832-b52b-a6741a385945",
   "metadata": {},
   "outputs": [],
   "source": [
    "corner(iid_samples, labels=['x{}'.format(i) for i in range(ndim)])\n",
    "plt.show()"
   ]
  },
  {
   "cell_type": "code",
   "execution_count": null,
   "id": "82da21bd-e020-464d-ba32-86916931a199",
   "metadata": {},
   "outputs": [],
   "source": [
    "I = np.mean(np.linalg.norm(iid_samples, axis=1))\n",
    "e = I*np.std(np.linalg.norm(iid_samples, axis=1))/np.sqrt(len(iid_samples))\n",
    "\n",
    "print(\"integral = {0:1.4f} +/- {1:1.4f}\".format(I, e))"
   ]
  },
  {
   "cell_type": "markdown",
   "id": "4bc1c8b0-b607-4143-8e93-04cecb72fdc6",
   "metadata": {},
   "source": [
    "# Emcee\n",
    "\n",
    "Affine invariance ensemble MCMC sampling"
   ]
  },
  {
   "cell_type": "code",
   "execution_count": null,
   "id": "df42e785-bd61-4958-abe1-15035b914d75",
   "metadata": {},
   "outputs": [],
   "source": [
    "import emcee\n",
    "\n",
    "nsteps, nwalkers, ndim = 10000, 100, 3\n",
    "start = np.random.randn(nwalkers, ndim)\n",
    "\n",
    "sampler = emcee.EnsembleSampler(nwalkers, ndim, log_prob)\n",
    "\n",
    "t_start = time.time()\n",
    "sampler.run_mcmc(start, nsteps)\n",
    "t_end = time.time()"
   ]
  },
  {
   "cell_type": "code",
   "execution_count": null,
   "id": "738ca9fe-c755-41f6-af47-b7793067e95e",
   "metadata": {},
   "outputs": [],
   "source": [
    "taus = sampler.get_autocorr_time(tol=2)\n",
    "print('Autocorrelation:', taus)\n",
    "\n",
    "tau = max(taus)\n",
    "print(f\"{tau = }\")"
   ]
  },
  {
   "cell_type": "code",
   "execution_count": null,
   "id": "0b034cfb-78b7-45a9-b071-17af057ae51c",
   "metadata": {},
   "outputs": [],
   "source": [
    "fig, axs = plt.subplots(nrows=ndim, figsize=(5,ndim*2))\n",
    "for i, ax in enumerate(axs):\n",
    "    ax.plot(sampler.get_chain()[:,:,i],alpha=0.25)\n",
    "    if i==ndim-1:\n",
    "        ax.set_xlabel('Iterations')\n",
    "    else:\n",
    "        ax.set_xticks([])\n",
    "    ax.set_ylabel(r'$x_{'+str(i)+'}$')\n",
    "    ax.set_xlim(0, nsteps)\n",
    "plt.tight_layout()\n",
    "plt.show()"
   ]
  },
  {
   "cell_type": "code",
   "execution_count": null,
   "id": "798f3eab-7205-407a-91c3-45e529b5df4f",
   "metadata": {},
   "outputs": [],
   "source": [
    "iid_samples = sampler.get_chain(flat=True, thin=2*int(tau), discard=int(0.05*nsteps))\n",
    "\n",
    "num_samples = len(iid_samples)\n",
    "\n",
    "print(\"Number of i.i.d. samples produced = {}\".format(num_samples))\n",
    "print(\"Time taken per i.i.d. sample = {}s\".format((t_end-t_start)/num_samples))"
   ]
  },
  {
   "cell_type": "code",
   "execution_count": null,
   "id": "e2d93048-a276-4999-89df-87a935071908",
   "metadata": {},
   "outputs": [],
   "source": [
    "corner(iid_samples, labels=['x{}'.format(i) for i in range(ndim)])\n",
    "plt.show()"
   ]
  },
  {
   "cell_type": "code",
   "execution_count": null,
   "id": "1cd94adc-fbd2-4b64-b8e5-e26c966c7dd3",
   "metadata": {},
   "outputs": [],
   "source": [
    "I = np.mean(np.linalg.norm(iid_samples, axis=1))\n",
    "e = I*np.std(np.linalg.norm(iid_samples, axis=1))/np.sqrt(len(iid_samples))\n",
    "\n",
    "print(\"integral = {0:1.4f} +/- {1:1.4f}\".format(I, e))"
   ]
  },
  {
   "cell_type": "markdown",
   "id": "84a2259f-d579-4855-81a1-37bd4a6d0eb8",
   "metadata": {},
   "source": [
    "# Dynesty\n",
    "\n",
    "Nested sampling"
   ]
  },
  {
   "cell_type": "code",
   "execution_count": null,
   "id": "9b84854c-acaa-4e80-a637-a04ce94c2ec0",
   "metadata": {},
   "outputs": [],
   "source": [
    "import dynesty\n",
    "\n",
    "ndim = 3\n",
    "\n",
    "def prior_transform(u):\n",
    "    return 20*u-10.\n",
    "\n",
    "sampler = dynesty.NestedSampler(log_prob, prior_transform, ndim, bound='multi', sample='slice', nlive=1000)\n",
    "\n",
    "t_start = time.time()\n",
    "sampler.run_nested(dlogz=0.01)\n",
    "t_end = time.time()\n",
    "\n",
    "res = sampler.results"
   ]
  },
  {
   "cell_type": "code",
   "execution_count": null,
   "id": "ffb47aa6-7489-4b79-af02-45ba18a34b68",
   "metadata": {},
   "outputs": [],
   "source": [
    "corner(res['samples'], weights=np.exp(res['logwt']))\n",
    "plt.show()"
   ]
  },
  {
   "cell_type": "code",
   "execution_count": null,
   "id": "a2da80d2-9756-4924-8ed7-43e7ee1549e4",
   "metadata": {},
   "outputs": [],
   "source": [
    "num_samples = sampler.n_effective\n",
    "\n",
    "print(\"Effective number of i.i.d. samples produced = {}\".format(num_samples))\n",
    "print(\"Time taken per i.i.d. sample = {}s\".format((t_end-t_start)/num_samples))"
   ]
  },
  {
   "cell_type": "code",
   "execution_count": null,
   "id": "36ecbd02-624e-42c0-917c-7e8e66d48f58",
   "metadata": {},
   "outputs": [],
   "source": [
    "I = np.sum(np.linalg.norm(res['samples'], axis=1)*np.exp(res['logwt']))/np.sum(np.exp(res['logwt']))\n",
    "e = I*np.std(np.linalg.norm(iid_samples, axis=1))/np.sqrt(num_samples)\n",
    "\n",
    "def average_and_stddev(x, w):\n",
    "    av = np.average(x, weights=w)\n",
    "    var = np.average((x-av)**2, weights=w)\n",
    "    return av, np.sqrt(var)\n",
    "\n",
    "I, e = average_and_stddev(np.linalg.norm(res['samples'], axis=1), np.exp(res['logwt']))\n",
    "\n",
    "print(\"integral = {0:1.4f} +/- {1:1.4f}\".format(I, e))"
   ]
  },
  {
   "cell_type": "markdown",
   "id": "b392d63f-eafc-4f66-8e6d-46e6cb9a3370",
   "metadata": {},
   "source": [
    "# Nessai\n",
    "\n",
    "Nested Sampling with Artificial Intelligence"
   ]
  },
  {
   "cell_type": "code",
   "execution_count": null,
   "id": "7fd94133-3d2f-4d23-8bce-d9bf01095748",
   "metadata": {},
   "outputs": [],
   "source": [
    "import nessai\n",
    "from nessai.model import Model\n",
    "from nessai.flowsampler import FlowSampler\n",
    "\n",
    "class my_model(Model):\n",
    "    def __init__(self, dim=3):\n",
    "        self.dim = dim\n",
    "        self.names = ['x{}'.format(i) for i in range(self.dim)]\n",
    "        self.bounds ={'x{}'.format(i): [-10, 10] for i in range(self.dim)}\n",
    "\n",
    "    def log_prior(self, x):\n",
    "        return np.log(1., dtype=\"float\")\n",
    "    \n",
    "    def log_likelihood(self, x):\n",
    "        return -rosenbrock(np.array([x['x{}'.format(i)] for i in range(self.dim)]))\n",
    "\n",
    "sampler = FlowSampler(my_model(), output='nessai_output', nlive=10000)\n",
    "\n",
    "t_start = time.time()\n",
    "sampler.run()\n",
    "t_end = time.time()"
   ]
  },
  {
   "cell_type": "code",
   "execution_count": null,
   "id": "1aa3d668-086d-4ef4-a62f-668e50c9ebcb",
   "metadata": {},
   "outputs": [],
   "source": [
    "nessai_samples = np.vstack((\n",
    "                        sampler.posterior_samples['x0'], \n",
    "                        sampler.posterior_samples['x1'], \n",
    "                        sampler.posterior_samples['x2']\n",
    "                    )).T\n",
    "\n",
    "num_samples = len(nessai_samples)\n",
    "\n",
    "print(\"Number of i.i.d. samples produced = {}\".format(num_samples))\n",
    "print(\"Time taken per i.i.d. sample = {}s\".format((t_end-t_start)/num_samples))"
   ]
  },
  {
   "cell_type": "code",
   "execution_count": null,
   "id": "f4098c2a-a9c4-4ab9-b22c-6cdc8dddfabd",
   "metadata": {},
   "outputs": [],
   "source": [
    "corner(nessai_samples)\n",
    "plt.show()"
   ]
  },
  {
   "cell_type": "code",
   "execution_count": null,
   "id": "19f588dc-1d60-4e3c-a925-d533016318c0",
   "metadata": {},
   "outputs": [],
   "source": [
    "I = np.mean(np.linalg.norm(nessai_samples, axis=1))\n",
    "e = I*np.std(np.linalg.norm(nessai_samples, axis=1))/np.sqrt(len(nessai_samples))\n",
    "\n",
    "print(\"integral = {0:1.4f} +/- {1:1.4f}\".format(I, e))"
   ]
  },
  {
   "cell_type": "markdown",
   "id": "c693dc91-b48a-43f5-a88f-d8577828f45e",
   "metadata": {},
   "source": [
    "# Tensorflow HMC\n",
    "\n",
    "Hamiltonian MCMC"
   ]
  },
  {
   "cell_type": "code",
   "execution_count": null,
   "id": "ccce4f82-cb40-40f5-960f-b93c3bcea22a",
   "metadata": {},
   "outputs": [],
   "source": [
    "import tensorflow as tf\n",
    "import tensorflow_probability as tfp\n",
    "\n",
    "# a new version of the target PDF function compatible with tensorflow\n",
    "def target_log_prob_fn(x):\n",
    "    num_dim = 3\n",
    "    A = 100*(tf.roll(x,-1,1)-x**2)**2+(1-x)**2\n",
    "    ans = tf.reduce_sum(A[:,0:-1],axis=-1)\n",
    "    return -ans"
   ]
  },
  {
   "cell_type": "code",
   "execution_count": null,
   "id": "3f86772a-18a4-4a9c-be64-42a936474fd6",
   "metadata": {},
   "outputs": [],
   "source": [
    "hmc_kernel = tfp.mcmc.HamiltonianMonteCarlo(\n",
    "  target_log_prob_fn=target_log_prob_fn,\n",
    "  step_size=np.float64(.01),\n",
    "  num_leapfrog_steps=200)\n",
    "\n",
    "@tf.function\n",
    "def run_chain(initial_state, num_results=30000, num_burnin_steps=10):\n",
    "  return tfp.mcmc.sample_chain(\n",
    "                            num_results=num_results,\n",
    "                            num_burnin_steps=num_burnin_steps,\n",
    "                            current_state=initial_state,\n",
    "                            kernel=hmc_kernel,\n",
    "                            trace_fn=lambda current_state, kernel_results: kernel_results)\n",
    "\n",
    "num_chains, ndim = 8, 3\n",
    "initial_state = np.random.normal(size=(num_chains, ndim))\n",
    "\n",
    "t_start = time.time()\n",
    "chains, kernel_results = run_chain(initial_state)\n",
    "t_end = time.time()"
   ]
  },
  {
   "cell_type": "code",
   "execution_count": null,
   "id": "cf664793-0036-4fa0-bf70-deb28f8f28f0",
   "metadata": {},
   "outputs": [],
   "source": [
    "r_hat = tfp.mcmc.potential_scale_reduction(chains)\n",
    "print(\"Acceptance rate:\", kernel_results.is_accepted.numpy().mean())\n",
    "print(\"R-hat diagnostic (per latent variable):\", r_hat.numpy())"
   ]
  },
  {
   "cell_type": "code",
   "execution_count": null,
   "id": "69e7885f-f67a-4abf-b6a6-8f11dd565a86",
   "metadata": {},
   "outputs": [],
   "source": [
    "from zeus import AutoCorrTime\n",
    "\n",
    "taus = AutoCorrTime(np.array(chains))\n",
    "print('Autocorrelation:', taus)\n",
    "\n",
    "tau = max(taus)\n",
    "print(f\"{tau = }\")"
   ]
  },
  {
   "cell_type": "code",
   "execution_count": null,
   "id": "7e138a8a-9d41-4578-bce5-8a14ad988795",
   "metadata": {},
   "outputs": [],
   "source": [
    "fig, axs = plt.subplots(nrows=ndim, figsize=(5,ndim*2))\n",
    "for i, ax in enumerate(axs):\n",
    "    ax.plot(np.array(chains)[:,0,i], alpha=0.25)\n",
    "    if i==ndim-1:\n",
    "        ax.set_xlabel('Iterations')\n",
    "    else:\n",
    "        ax.set_xticks([])\n",
    "    ax.set_ylabel(r'$x_{'+str(i)+'}$')\n",
    "    ax.set_xlim(0, np.array(chains).shape[0])\n",
    "plt.tight_layout()\n",
    "plt.show()"
   ]
  },
  {
   "cell_type": "code",
   "execution_count": null,
   "id": "278c2c0a-2bf2-419e-9219-4b9987b5c370",
   "metadata": {},
   "outputs": [],
   "source": [
    "thinned_chains = chains.numpy()[::2*int(tau)]\n",
    "\n",
    "a,b,c = thinned_chains.shape\n",
    "iid_tf_samples = thinned_chains.reshape(a*b, c)\n",
    "\n",
    "num_samples = len(iid_tf_samples)\n",
    "\n",
    "print(\"Number of i.i.d. samples produced = {}\".format(num_samples))\n",
    "print(\"Time taken per i.i.d. sample = {}s\".format((t_end-t_start)/num_samples))"
   ]
  },
  {
   "cell_type": "code",
   "execution_count": null,
   "id": "c6ad3e0b-6f29-431d-ad5a-519ade97b223",
   "metadata": {},
   "outputs": [],
   "source": [
    "corner(iid_tf_samples)\n",
    "plt.show()"
   ]
  },
  {
   "cell_type": "code",
   "execution_count": null,
   "id": "20644685-eeb2-47f8-bf58-5927fb2d2116",
   "metadata": {},
   "outputs": [],
   "source": [
    "I = np.mean(np.linalg.norm(iid_tf_samples, axis=1))\n",
    "e = I*np.std(np.linalg.norm(iid_tf_samples, axis=1))/np.sqrt(len(iid_tf_samples))\n",
    "\n",
    "print(\"integral = {0:1.4f} +/- {1:1.4f}\".format(I, e))"
   ]
  },
  {
   "cell_type": "markdown",
   "id": "11cc3ef3-28fc-42e5-94f2-43d7cef0d14b",
   "metadata": {},
   "source": [
    "# Comparing Sampling Methods\n",
    "\n",
    "Running on a my laptop, we can compare the above sampling methods based on the time taken to produce independent samples from the target distribution.\n",
    "\n",
    "| Method | Time [ms] per i.i.d. sample |\n",
    "| ------ | --------------------------- |\n",
    "| Simple custom Metropolis implementation | 1200 |\n",
    "| Zeus | 78 |\n",
    "| Emcee | 9 |\n",
    "| Dynesty | 3 |\n",
    "| Nessai | 0.4 |\n",
    "| Tensorflow HMC | 9 |\n",
    "\n",
    "You should definitely NOT treat this a definitive comparison of the algorithms in general. These times depend sensitively on the specific target distribution, the dimensionality and the specific implementation. Most algorithms have parameters that can be tuned which can drastically alter the sampling efficiency (this is both a blessing and a curese). For most algorithms, the cost also doesn't scale linearly with the number of samples produced (e.g. for adaptive algorithms it might be cheaper to produce the second 100 samples than it was to produce the first 100). Differant algorithms can be easier or harder to implement (some require derivatives). When working on larger scale problems using HPC resources different algorithms/implementations can be easier or harder to parallelise. \n",
    "\n",
    "Q: Which sampler should I use? \n",
    "\n",
    "A: It depends."
   ]
  },
  {
   "cell_type": "markdown",
   "id": "b57ebd1d-e8a7-49db-a2c3-29c257552ed3",
   "metadata": {},
   "source": [
    "# The case of $n=4$\n",
    "\n",
    "Any of the above stochastic sampling method can easily be adapted to work in any number of dimensions.\n",
    "\n",
    "Here I show a simple custom Metropolis method in 4D."
   ]
  },
  {
   "cell_type": "code",
   "execution_count": null,
   "id": "53ec6c65-5a7c-424b-a6e5-748d1dd69b91",
   "metadata": {},
   "outputs": [],
   "source": [
    "from scipy.stats import multivariate_normal\n",
    "\n",
    "nsteps, ndim = 1000000, 4\n",
    "\n",
    "delta = 0.003\n",
    "cov = delta * np.eye(ndim)\n",
    "\n",
    "chain = np.zeros((nsteps, 1, ndim))\n",
    "\n",
    "chain[0,0] = np.ones(ndim)\n",
    "\n",
    "num_accept = 0\n",
    "\n",
    "t_start = time.time()\n",
    "\n",
    "for i in range(nsteps-1):\n",
    "    x_current = chain[i,0]                     # current position\n",
    "    Q = multivariate_normal(x_current, cov)    # poposal distribution\n",
    "    x_proposed = Q.rvs()                       # proposed position\n",
    "    log_a = log_prob(x_proposed) - \\\n",
    "                log_prob(x_current)            # acceptance ratio\n",
    "    u = np.random.uniform()                    # uniform random variable\n",
    "    if np.log(u)<log_a:\n",
    "        x_new = x_proposed                     # ACCEPT\n",
    "        num_accept += 1                        # count how many proposals are accepted\n",
    "    else:\n",
    "        x_new = x_current                      # REJECT\n",
    "    chain[i+1,0] = x_new                       # store new position in chain\n",
    "\n",
    "print(\"Acceptance fraction = {}\".format(num_accept/nsteps))\n",
    "\n",
    "t_end = time.time()"
   ]
  },
  {
   "cell_type": "code",
   "execution_count": null,
   "id": "1458b003-5f87-4434-90f7-627e5a938326",
   "metadata": {},
   "outputs": [],
   "source": [
    "from zeus import AutoCorrTime\n",
    "\n",
    "taus = AutoCorrTime(chain)\n",
    "print('Autocorrelation:', taus)\n",
    "\n",
    "tau = max(taus)\n",
    "print(f\"{tau = }\")"
   ]
  },
  {
   "cell_type": "code",
   "execution_count": null,
   "id": "6bfdd053-9a68-498b-8c51-c67d9f9b6d5e",
   "metadata": {},
   "outputs": [],
   "source": [
    "burnin = 0\n",
    "\n",
    "iid_samples = chain[burnin::2*int(tau), 0, :]\n",
    "\n",
    "num_samples = len(iid_samples)\n",
    "\n",
    "print(\"Number of i.i.d. samples produced = {}\".format(num_samples))\n",
    "print(\"Time taken per i.i.d. sample = {}s\".format((t_end-t_start)/num_samples))"
   ]
  },
  {
   "cell_type": "code",
   "execution_count": null,
   "id": "c7938af4-e310-42b9-9c24-d52de2f9deec",
   "metadata": {},
   "outputs": [],
   "source": [
    "corner(chain[:,0,:], labels=['x{}'.format(i) for i in range(ndim)])\n",
    "plt.show()"
   ]
  },
  {
   "cell_type": "code",
   "execution_count": null,
   "id": "031cffa4-35fa-4805-96b9-e6fcc4f109be",
   "metadata": {},
   "outputs": [],
   "source": []
  }
 ],
 "metadata": {
  "kernelspec": {
   "display_name": "Python 3 (ipykernel)",
   "language": "python",
   "name": "python3"
  },
  "language_info": {
   "codemirror_mode": {
    "name": "ipython",
    "version": 3
   },
   "file_extension": ".py",
   "mimetype": "text/x-python",
   "name": "python",
   "nbconvert_exporter": "python",
   "pygments_lexer": "ipython3",
   "version": "3.11.8"
  }
 },
 "nbformat": 4,
 "nbformat_minor": 5
}
